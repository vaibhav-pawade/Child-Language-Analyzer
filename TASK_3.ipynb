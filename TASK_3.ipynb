{
 "cells": [
  {
   "cell_type": "code",
   "execution_count": 2,
   "metadata": {},
   "outputs": [],
   "source": [
    "import re \n",
    "import os.path\n",
    "import pandas as pd\n",
    "from matplotlib import pyplot as plt\n",
    "import seaborn as sns\n",
    "%matplotlib inline"
   ]
  },
  {
   "cell_type": "code",
   "execution_count": 44,
   "metadata": {},
   "outputs": [],
   "source": [
    "class data_visualisation:\n",
    "    data=''\n",
    "    mean=''\n",
    "    def __init__(self,stats):\n",
    "        self.data=stats\n",
    "        print(self.data)\n",
    "        return()\n",
    "    def compute_averages(self):\n",
    "        self.mean=self.data.describe().loc['mean']\n",
    "        print(\"Mean of the six statistics for given child group:\")\n",
    "        print(self.mean)\n",
    "        return()\n",
    "    def visualise_statistics(self):\n",
    "        self.mean.plot(kind=\"bar\",title=\"Mean values graph\",figsize=(10,5))\n",
    "        return()"
   ]
  },
  {
   "cell_type": "code",
   "execution_count": 45,
   "metadata": {},
   "outputs": [],
   "source": [
    "stats_sli= pd.read_csv('SLI_data.csv')\n",
    "stats_td= pd.read_csv('TD_data.csv')\n",
    "del stats_sli['Unnamed: 0']\n",
    "del stats_td['Unnamed: 0']"
   ]
  },
  {
   "cell_type": "code",
   "execution_count": 46,
   "metadata": {},
   "outputs": [
    {
     "name": "stdout",
     "output_type": "stream",
     "text": [
      "  File_name  length  size_vocabalory  rep_words  ret_words  pause  errors\n",
      "0  SLI-OP10      57              129         14         13     22       0\n",
      "1   SLI-OP9      70              152         44         10     25       0\n",
      "2   SLI-OP8      72              150          7         12     41       0\n",
      "3   SLI-OP7      68              155         28         11      8       0\n",
      "4   SLI-OP6      61              107         10         10     13       0\n",
      "5   SLI-OP5      77              173          8         18     39       0\n",
      "6   SLI-OP4      68              139         21         38     51       0\n",
      "7   SLI-OP3     106              159         39          5     19       0\n",
      "8   SLI-OP2      70              115          4         10     39       0\n",
      "9   SLI-OP1      67              131         47         10     13       0\n",
      "  File_name  length  size_vocabalory  rep_words  ret_words  pause  errors\n",
      "0   TD-OP10      91              225          6         17     29       0\n",
      "1    TD-OP9      81              210         23         15     55       0\n",
      "2    TD-OP8      90              183         10         11     27       0\n",
      "3    TD-OP7      76              195         21         22     65       0\n",
      "4    TD-OP6      84              201         17         21     49       0\n",
      "5    TD-OP5      90              175          9         20     44       0\n",
      "6    TD-OP4      87              189         49          7     18       0\n",
      "7    TD-OP3      81              203         21         22     43       0\n",
      "8    TD-OP2      90              190          8         10     53       0\n",
      "9    TD-OP1      95              129         14         10     27       0\n"
     ]
    }
   ],
   "source": [
    "a=data_visualisation(stats_sli)\n",
    "b=data_visualisation(stats_td)"
   ]
  },
  {
   "cell_type": "code",
   "execution_count": 47,
   "metadata": {},
   "outputs": [
    {
     "name": "stdout",
     "output_type": "stream",
     "text": [
      "Mean of the six statistics for given child group:\n",
      "length              86.5\n",
      "size_vocabalory    190.0\n",
      "rep_words           17.8\n",
      "ret_words           15.5\n",
      "pause               41.0\n",
      "errors               0.0\n",
      "Name: mean, dtype: float64\n",
      "--------------------------\n",
      "Mean of the six statistics for given child group:\n",
      "length              71.6\n",
      "size_vocabalory    141.0\n",
      "rep_words           22.2\n",
      "ret_words           13.7\n",
      "pause               27.0\n",
      "errors               0.0\n",
      "Name: mean, dtype: float64\n"
     ]
    },
    {
     "data": {
      "text/plain": [
       "()"
      ]
     },
     "execution_count": 47,
     "metadata": {},
     "output_type": "execute_result"
    }
   ],
   "source": [
    "b.compute_averages()\n",
    "print('--------------------------')\n",
    "a.compute_averages()"
   ]
  },
  {
   "cell_type": "code",
   "execution_count": 50,
   "metadata": {},
   "outputs": [
    {
     "data": {
      "text/plain": [
       "()"
      ]
     },
     "execution_count": 50,
     "metadata": {},
     "output_type": "execute_result"
    },
    {
     "data": {
      "image/png": "[encoded data removed]",
      "text/plain": [
       "<Figure size 720x360 with 1 Axes>"
      ]
     },
     "metadata": {},
     "output_type": "display_data"
    }
   ],
   "source": [
    "a.visualise_statistics()"
   ]
  },
  {
   "cell_type": "code",
   "execution_count": 49,
   "metadata": {},
   "outputs": [
    {
     "data": {
      "text/plain": [
       "()"
      ]
     },
     "execution_count": 49,
     "metadata": {},
     "output_type": "execute_result"
    },
    {
     "data": {
      "image/png": "[encoded data removed]",
      "text/plain": [
       "<Figure size 720x360 with 1 Axes>"
      ]
     },
     "metadata": {},
     "output_type": "display_data"
    }
   ],
   "source": [
    "b.visualise_statistics()"
   ]
  },
  {
   "cell_type": "code",
   "execution_count": null,
   "metadata": {},
   "outputs": [],
   "source": []
  }
 ],
 "metadata": {
  "kernelspec": {
   "display_name": "Python 3",
   "language": "python",
   "name": "python3"
  },
  "language_info": {
   "codemirror_mode": {
    "name": "ipython",
    "version": 3
   },
   "file_extension": ".py",
   "mimetype": "text/x-python",
   "name": "python",
   "nbconvert_exporter": "python",
   "pygments_lexer": "ipython3",
   "version": "3.6.5"
  }
 },
 "nbformat": 4,
 "nbformat_minor": 2
}
